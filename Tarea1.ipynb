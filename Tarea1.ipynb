{
 "cells": [
  {
   "cell_type": "code",
   "execution_count": 25,
   "metadata": {
    "collapsed": false
   },
   "outputs": [
    {
     "name": "stdout",
     "output_type": "stream",
     "text": [
      "7/8 0.875000000000000\n"
     ]
    }
   ],
   "source": [
    "#Ejercicio 1\n",
    "a = 28/(2**5)\n",
    "print(a, n(a))"
   ]
  },
  {
   "cell_type": "code",
   "execution_count": 26,
   "metadata": {
    "collapsed": false
   },
   "outputs": [
    {
     "name": "stdout",
     "output_type": "stream",
     "text": [
      "1.41421356237310\n"
     ]
    }
   ],
   "source": [
    "#Ejercicio 2\n",
    "print(numerical_approx(sqrt(2)))"
   ]
  },
  {
   "cell_type": "code",
   "execution_count": 27,
   "metadata": {
    "collapsed": false
   },
   "outputs": [
    {
     "name": "stdout",
     "output_type": "stream",
     "text": [
      "3*I\n"
     ]
    }
   ],
   "source": [
    "#Ejercicio 3\n",
    "b = sqrt(-9)\n",
    "print(b)"
   ]
  },
  {
   "cell_type": "code",
   "execution_count": 5,
   "metadata": {
    "collapsed": false
   },
   "outputs": [
    {
     "name": "stdout",
     "output_type": "stream",
     "text": [
      "0.0196078431372549\n"
     ]
    }
   ],
   "source": [
    "#Ejercicio 4\n",
    "c = log(3, 2153693963075557766310747)\n",
    "print(float(c))"
   ]
  },
  {
   "cell_type": "code",
   "execution_count": 11,
   "metadata": {
    "collapsed": false
   },
   "outputs": [
    {
     "name": "stdout",
     "output_type": "stream",
     "text": [
      "3.14159265358979323846264338327950288419716939937511\n"
     ]
    }
   ],
   "source": [
    "#Ejercicio 5\n",
    "d = n(e, digits=51)\n",
    "print(d)"
   ]
  },
  {
   "cell_type": "code",
   "execution_count": 12,
   "metadata": {
    "collapsed": false
   },
   "outputs": [
    {
     "name": "stdout",
     "output_type": "stream",
     "text": [
      "3.14159265358979323846264338327950288419716939937510582097494459230781640628620900\n"
     ]
    }
   ],
   "source": [
    "#Ejercicio 6\n",
    "e = n(pi, digits=81)\n",
    "print(e)"
   ]
  },
  {
   "cell_type": "code",
   "execution_count": 17,
   "metadata": {
    "collapsed": false
   },
   "outputs": [
    {
     "name": "stdout",
     "output_type": "stream",
     "text": [
      "C: 9 R: 74\n"
     ]
    }
   ],
   "source": [
    "#Ejercicio 7\n",
    "f = 956\n",
    "g = 98\n",
    "cociente = f//g\n",
    "resto = f%g\n",
    "print(\"C:\", cociente,\"R:\", resto)"
   ]
  },
  {
   "cell_type": "code",
   "execution_count": 21,
   "metadata": {
    "collapsed": false
   },
   "outputs": [
    {
     "name": "stdout",
     "output_type": "stream",
     "text": [
      "True\n"
     ]
    }
   ],
   "source": [
    "#Ejercicio 8\n",
    "comprobacion = f == g*cociente + resto\n",
    "print(comprobacion)"
   ]
  },
  {
   "cell_type": "code",
   "execution_count": 3,
   "metadata": {
    "collapsed": false
   },
   "outputs": [
    {
     "name": "stdout",
     "output_type": "stream",
     "text": [
      "False\n"
     ]
    }
   ],
   "source": [
    "#Ejercicio 9\n",
    "comprobacion = 234878 % 3 == 0\n",
    "print(comprobacion)"
   ]
  },
  {
   "cell_type": "code",
   "execution_count": 21,
   "metadata": {
    "collapsed": false
   },
   "outputs": [
    {
     "name": "stdout",
     "output_type": "stream",
     "text": [
      "Divsores de 134: [1, 2, 67, 134]\n",
      "Divsores de 491: [1, 491]\n",
      "Divsores de 422: [1, 2, 211, 422]\n",
      "Divsores de 1002: [1, 2, 3, 6, 167, 334, 501, 1002]\n"
     ]
    }
   ],
   "source": [
    "#Ejercicio 10\n",
    "numeros = [134, 491, 422, 1002]\n",
    "\n",
    "\n",
    "for numero in numeros:\n",
    "    divisores = divisors(numero)\n",
    "    print(f\"Divsores de {numero}: {divisores}\")\n"
   ]
  },
  {
   "cell_type": "code",
   "execution_count": 18,
   "metadata": {
    "collapsed": false
   },
   "outputs": [
    {
     "name": "stdout",
     "output_type": "stream",
     "text": [
      "[491]\n"
     ]
    }
   ],
   "source": [
    "#Ejercicio 11\n",
    "numeros = [134, 491, 422, 1002]\n",
    "\n",
    "primos = [numero for numero in numeros if is_prime(numero)]\n",
    "\n",
    "print(primos)"
   ]
  },
  {
   "cell_type": "code",
   "execution_count": 22,
   "metadata": {
    "collapsed": false
   },
   "outputs": [
    {
     "name": "stdout",
     "output_type": "stream",
     "text": [
      "MCD de (2, 5): 1\n",
      "MCM de (2, 5): 10\n",
      "···\n",
      "MCD de (4, 10): 2\n",
      "MCM de (4, 10): 20\n",
      "···\n",
      "MCD de (18, 51): 3\n",
      "MCM de (18, 51): 306\n",
      "···\n"
     ]
    }
   ],
   "source": [
    "#Ejercicio 12\n",
    "pares_numeros = [(2, 5), (4, 10), (18, 51)]\n",
    "\n",
    "for g, h in pares_numeros:\n",
    "    mcd = gcd(g, h)\n",
    "    mcm = lcm(g, h)\n",
    "    \n",
    "\n",
    "    print(f\"MCD de ({g}, {h}): {mcd}\")\n",
    "    print(f\"MCM de ({g}, {h}): {mcm}\")\n",
    "    print(\"···\")\n"
   ]
  }
 ],
 "metadata": {
  "kernelspec": {
   "argv": [
    "sage-10.1",
    "--python",
    "-m",
    "sage.repl.ipython_kernel",
    "--matplotlib=inline",
    "-f",
    "{connection_file}"
   ],
   "display_name": "SageMath 10.1",
   "env": {
   },
   "language": "sagemath",
   "metadata": {
    "cocalc": {
     "description": "Open-source mathematical software system",
     "priority": 10,
     "url": "https://www.sagemath.org/"
    }
   },
   "name": "sage-10.1",
   "resource_dir": "/ext/jupyter/kernels/sage-10.1"
  },
  "language_info": {
   "codemirror_mode": {
    "name": "ipython",
    "version": 3
   },
   "file_extension": ".py",
   "mimetype": "text/x-python",
   "name": "python",
   "nbconvert_exporter": "python",
   "pygments_lexer": "ipython3",
   "version": "3.11.1"
  }
 },
 "nbformat": 4,
 "nbformat_minor": 4
}